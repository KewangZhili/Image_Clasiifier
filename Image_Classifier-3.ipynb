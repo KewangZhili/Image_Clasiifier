{
 "cells": [
  {
   "cell_type": "markdown",
   "id": "955b9c68",
   "metadata": {},
   "source": [
    "# Importing necessary packages"
   ]
  },
  {
   "cell_type": "code",
   "execution_count": 62,
   "id": "481da13e",
   "metadata": {},
   "outputs": [
    {
     "name": "stdout",
     "output_type": "stream",
     "text": [
      "Requirement already satisfied: matplotlib in /Users/koushikmukka/anaconda3/lib/python3.10/site-packages (3.7.0)\n",
      "Requirement already satisfied: packaging>=20.0 in /Users/koushikmukka/anaconda3/lib/python3.10/site-packages (from matplotlib) (22.0)\n",
      "Requirement already satisfied: contourpy>=1.0.1 in /Users/koushikmukka/anaconda3/lib/python3.10/site-packages (from matplotlib) (1.0.5)\n",
      "Requirement already satisfied: pillow>=6.2.0 in /Users/koushikmukka/anaconda3/lib/python3.10/site-packages (from matplotlib) (9.4.0)\n",
      "Requirement already satisfied: pyparsing>=2.3.1 in /Users/koushikmukka/anaconda3/lib/python3.10/site-packages (from matplotlib) (3.0.9)\n",
      "Requirement already satisfied: cycler>=0.10 in /Users/koushikmukka/anaconda3/lib/python3.10/site-packages (from matplotlib) (0.11.0)\n",
      "Requirement already satisfied: numpy>=1.20 in /Users/koushikmukka/anaconda3/lib/python3.10/site-packages (from matplotlib) (1.23.5)\n",
      "Requirement already satisfied: kiwisolver>=1.0.1 in /Users/koushikmukka/anaconda3/lib/python3.10/site-packages (from matplotlib) (1.4.4)\n",
      "Requirement already satisfied: python-dateutil>=2.7 in /Users/koushikmukka/anaconda3/lib/python3.10/site-packages (from matplotlib) (2.8.2)\n",
      "Requirement already satisfied: fonttools>=4.22.0 in /Users/koushikmukka/anaconda3/lib/python3.10/site-packages (from matplotlib) (4.25.0)\n",
      "Requirement already satisfied: six>=1.5 in /Users/koushikmukka/anaconda3/lib/python3.10/site-packages (from python-dateutil>=2.7->matplotlib) (1.16.0)\n"
     ]
    }
   ],
   "source": [
    "!pip3 install matplotlib"
   ]
  },
  {
   "cell_type": "code",
   "execution_count": 54,
   "id": "d674eb64",
   "metadata": {},
   "outputs": [],
   "source": [
    "import pandas as pd\n",
    "import numpy as np\n",
    "import matplotlib.pyplot as plt\n",
    "import matplotlib.image as mpimg\n",
    "import cv2\n",
    "import tensorflow as tf\n",
    "from tensorflow import keras\n",
    "import os\n",
    "import random\n",
    "from PIL import Image"
   ]
  },
  {
   "cell_type": "markdown",
   "id": "b65e4025",
   "metadata": {},
   "source": [
    "# Storing locations of test and training data"
   ]
  },
  {
   "cell_type": "code",
   "execution_count": 3,
   "id": "627be5d3",
   "metadata": {},
   "outputs": [
    {
     "name": "stdout",
     "output_type": "stream",
     "text": [
      "['REAL' 'FAKE']\n"
     ]
    }
   ],
   "source": [
    "TRAIN_DIR = '/Users/koushikmukka/Downloads/archive/train'\n",
    "TEST_DIR = '/Users/koushikmukka/Downloads/archive/test'\n",
    "\n",
    "IMG_DIM = 32\n",
    "lst = os.listdir(TRAIN_DIR)\n",
    "if '.DS_Store' in lst:\n",
    "    lst.remove('.DS_Store')\n",
    "LABELS = np.asarray(lst)\n",
    "print(LABELS)"
   ]
  },
  {
   "cell_type": "markdown",
   "id": "872e271d",
   "metadata": {},
   "source": [
    "# Creating training data set"
   ]
  },
  {
   "cell_type": "code",
   "execution_count": 4,
   "id": "fd15d849",
   "metadata": {},
   "outputs": [
    {
     "data": {
      "text/plain": [
       "<function keras.utils.image_dataset.image_dataset_from_directory(directory, labels='inferred', label_mode='int', class_names=None, color_mode='rgb', batch_size=32, image_size=(256, 256), shuffle=True, seed=None, validation_split=None, subset=None, interpolation='bilinear', follow_links=False, crop_to_aspect_ratio=False, **kwargs)>"
      ]
     },
     "execution_count": 4,
     "metadata": {},
     "output_type": "execute_result"
    }
   ],
   "source": [
    "keras.utils.image_dataset_from_directory"
   ]
  },
  {
   "cell_type": "code",
   "execution_count": 6,
   "id": "a70bb98b",
   "metadata": {},
   "outputs": [
    {
     "name": "stdout",
     "output_type": "stream",
     "text": [
      "Found 100350 files belonging to 2 classes.\n",
      "Found 20000 files belonging to 2 classes.\n"
     ]
    }
   ],
   "source": [
    "from keras.utils import image_dataset_from_directory\n",
    "\n",
    "#returns tf.data.dataset object which might have multiple components,with label_mode =binary because binary classification is used/required\n",
    "trainDataSet = image_dataset_from_directory(directory = TRAIN_DIR,\n",
    "                                             label_mode = 'binary',\n",
    "                                             image_size = (32, 32))\n",
    "testDataSet = image_dataset_from_directory(directory = TEST_DIR,label_mode = 'binary',image_size = (32,32))\n",
    "\n",
    "\n"
   ]
  },
  {
   "cell_type": "code",
   "execution_count": 7,
   "id": "ca164b2f",
   "metadata": {},
   "outputs": [
    {
     "data": {
      "text/plain": [
       "<BatchDataset element_spec=(TensorSpec(shape=(None, 32, 32, 3), dtype=tf.float32, name=None), TensorSpec(shape=(None, 1), dtype=tf.float32, name=None))>"
      ]
     },
     "execution_count": 7,
     "metadata": {},
     "output_type": "execute_result"
    }
   ],
   "source": [
    "trainDataSet"
   ]
  },
  {
   "cell_type": "code",
   "execution_count": 13,
   "id": "53a664ab",
   "metadata": {},
   "outputs": [
    {
     "name": "stdout",
     "output_type": "stream",
     "text": [
      "(32, 32, 32, 3)\n",
      "(32, 1)\n"
     ]
    }
   ],
   "source": [
    "trainDataSet_iterator = trainDataSet.as_numpy_iterator()\n",
    "batch = trainDataSet_iterator.next()\n",
    "print(batch[0].shape)\n",
    "print(batch[1].shape)"
   ]
  },
  {
   "cell_type": "code",
   "execution_count": 14,
   "id": "a77112f0",
   "metadata": {},
   "outputs": [
    {
     "name": "stdout",
     "output_type": "stream",
     "text": [
      "[[0.]\n",
      " [1.]\n",
      " [1.]\n",
      " [1.]\n",
      " [0.]\n",
      " [1.]\n",
      " [0.]\n",
      " [0.]\n",
      " [1.]\n",
      " [0.]\n",
      " [1.]\n",
      " [1.]\n",
      " [0.]\n",
      " [0.]\n",
      " [0.]\n",
      " [1.]\n",
      " [1.]\n",
      " [0.]\n",
      " [0.]\n",
      " [1.]\n",
      " [1.]\n",
      " [1.]\n",
      " [0.]\n",
      " [0.]\n",
      " [1.]\n",
      " [0.]\n",
      " [1.]\n",
      " [1.]\n",
      " [0.]\n",
      " [0.]\n",
      " [0.]\n",
      " [1.]]\n"
     ]
    }
   ],
   "source": [
    "print(batch[1])"
   ]
  },
  {
   "cell_type": "markdown",
   "id": "454eea8b",
   "metadata": {},
   "source": [
    "# Examples of images in given dataset"
   ]
  },
  {
   "cell_type": "code",
   "execution_count": 15,
   "id": "e2e9d2af",
   "metadata": {},
   "outputs": [
    {
     "name": "stdout",
     "output_type": "stream",
     "text": [
      "['FAKE', 'REAL']\n"
     ]
    }
   ],
   "source": [
    "print(trainDataSet.class_names)"
   ]
  },
  {
   "cell_type": "code",
   "execution_count": 16,
   "id": "6a2a7007",
   "metadata": {},
   "outputs": [
    {
     "data": {
      "image/png": "[encoded data removed]",
      "text/plain": [
       "<Figure size 1000x1000 with 9 Axes>"
      ]
     },
     "metadata": {},
     "output_type": "display_data"
    }
   ],
   "source": [
    "#returns a list of class names in stored dataset\n",
    "#here real and fake classes inside train\n",
    "classNames = trainDataSet.class_names\n",
    "\n",
    "plt.figure(figsize=(10, 10))\n",
    "plt.suptitle('Train images with labels',\n",
    "             fontweight = 'bold',\n",
    "            fontsize = 22)\n",
    "for images, labels in trainDataSet.take(9):\n",
    "    for i in range(9):\n",
    "        ax = plt.subplot(3, 3, i + 1)#.numpy returns np.ndarray\n",
    "        plt.imshow(images[i].numpy().astype('uint8'))#arrays representing rgb images have uint8 datatype\n",
    "        labelIndex = int(labels[i]) # gets the index value\n",
    "        plt.title(LABELS[labelIndex])\n",
    "plt.show()"
   ]
  },
  {
   "cell_type": "markdown",
   "id": "215164ad",
   "metadata": {},
   "source": [
    "# Preprocessing of given images"
   ]
  },
  {
   "cell_type": "code",
   "execution_count": 17,
   "id": "11f372b5",
   "metadata": {},
   "outputs": [],
   "source": [
    "keras.preprocessing.image.ImageDataGenerator??"
   ]
  },
  {
   "cell_type": "code",
   "execution_count": 18,
   "id": "48e46f85",
   "metadata": {},
   "outputs": [
    {
     "name": "stdout",
     "output_type": "stream",
     "text": [
      "Found 100350 images belonging to 2 classes.\n",
      "Found 20000 images belonging to 2 classes.\n"
     ]
    }
   ],
   "source": [
    "from keras.preprocessing.image import ImageDataGenerator\n",
    "#The ImageDataGenerator class allows your model to receive new variations of the images at each epoch\n",
    "#It is data augmentation\n",
    "# Data augmentation is a technique of artificially increasing the training set by creating modified copies of a dataset using existing data\n",
    "#No other image augementation.\n",
    "TRAIN_IMAGE_GENERATOR = ImageDataGenerator(rescale = 1./255)\n",
    "TEST_IMAGE_GENERATOR = ImageDataGenerator(rescale = 1./255)\n",
    "\n",
    "\n",
    "TRAIN_GENERATOR_RGB = TRAIN_IMAGE_GENERATOR.flow_from_directory(\n",
    "    TRAIN_DIR,\n",
    "    target_size = (32, 32),\n",
    "    class_mode = 'binary',\n",
    "    color_mode = 'rgb' \n",
    ")\n",
    "\n",
    "TEST_GENERATOR_RGB = TEST_IMAGE_GENERATOR.flow_from_directory(\n",
    "    TEST_DIR,\n",
    "    target_size = (32, 32),\n",
    "    class_mode = 'binary',\n",
    "    color_mode = 'rgb' \n",
    ")\n",
    "\n",
    "#Returns a DirectoryIterator object."
   ]
  },
  {
   "cell_type": "markdown",
   "id": "2baec2e2",
   "metadata": {},
   "source": [
    "# Building model"
   ]
  },
  {
   "cell_type": "code",
   "execution_count": 19,
   "id": "efc3099b",
   "metadata": {},
   "outputs": [],
   "source": [
    "from keras.models import Sequential\n",
    "from keras.layers import Dense, Conv2D, MaxPooling2D, AveragePooling2D, BatchNormalization, Flatten,Dropout\n",
    "from keras.layers.activation import *\n",
    "from keras.applications.vgg16 import VGG16, preprocess_input\n",
    "from keras.models import Model\n",
    "from keras.callbacks import ModelCheckpoint, EarlyStopping\n",
    "from keras.optimizers import *\n",
    "from keras.metrics import BinaryAccuracy\n",
    "from keras.losses import BinaryCrossentropy\n",
    "from tensorflow.keras.applications import convnext"
   ]
  },
  {
   "cell_type": "code",
   "execution_count": 20,
   "id": "400cde3a",
   "metadata": {},
   "outputs": [],
   "source": [
    "model=Sequential()\n",
    "model.add(Conv2D(32,(3,3),activation='relu',input_shape=(32,32,3)))\n",
    "model.add(MaxPooling2D((2,2)))\n",
    "\n",
    "model.add(Conv2D(32,(3,3),activation='relu'))\n",
    "model.add(MaxPooling2D((2,2)))\n",
    "\n",
    "model.add(Flatten())\n",
    "model.add(Dense(64,activation='relu'))\n",
    "model.add(Dense(1,activation='sigmoid'))"
   ]
  },
  {
   "cell_type": "code",
   "execution_count": 21,
   "id": "3bc08f4c",
   "metadata": {},
   "outputs": [],
   "source": [
    "model.compile(loss='binary_crossentropy',optimizer='adam',metrics=['accuracy'])"
   ]
  },
  {
   "cell_type": "code",
   "execution_count": 22,
   "id": "215a966b",
   "metadata": {},
   "outputs": [
    {
     "name": "stdout",
     "output_type": "stream",
     "text": [
      "Model: \"sequential\"\n",
      "_________________________________________________________________\n",
      " Layer (type)                Output Shape              Param #   \n",
      "=================================================================\n",
      " conv2d (Conv2D)             (None, 30, 30, 32)        896       \n",
      "                                                                 \n",
      " max_pooling2d (MaxPooling2D  (None, 15, 15, 32)       0         \n",
      " )                                                               \n",
      "                                                                 \n",
      " conv2d_1 (Conv2D)           (None, 13, 13, 32)        9248      \n",
      "                                                                 \n",
      " max_pooling2d_1 (MaxPooling  (None, 6, 6, 32)         0         \n",
      " 2D)                                                             \n",
      "                                                                 \n",
      " flatten (Flatten)           (None, 1152)              0         \n",
      "                                                                 \n",
      " dense (Dense)               (None, 64)                73792     \n",
      "                                                                 \n",
      " dense_1 (Dense)             (None, 1)                 65        \n",
      "                                                                 \n",
      "=================================================================\n",
      "Total params: 84,001\n",
      "Trainable params: 84,001\n",
      "Non-trainable params: 0\n",
      "_________________________________________________________________\n"
     ]
    }
   ],
   "source": [
    "model.summary()"
   ]
  },
  {
   "cell_type": "code",
   "execution_count": 23,
   "id": "ee67ec5b",
   "metadata": {},
   "outputs": [
    {
     "name": "stdout",
     "output_type": "stream",
     "text": [
      "3136/3136 [==============================] - 86s 27ms/step - loss: 0.3285 - accuracy: 0.8565 - val_loss: 0.2379 - val_accuracy: 0.9005\n"
     ]
    },
    {
     "data": {
      "text/plain": [
       "<keras.callbacks.History at 0x7f7b4c1fd6c0>"
      ]
     },
     "execution_count": 23,
     "metadata": {},
     "output_type": "execute_result"
    }
   ],
   "source": [
    "model.fit(TRAIN_GENERATOR_RGB,\n",
    "                    epochs = 1,\n",
    "                    validation_data = TEST_GENERATOR_RGB,\n",
    "                    batch_size = 64\n",
    "                   )"
   ]
  },
  {
   "cell_type": "code",
   "execution_count": 24,
   "id": "20b2bc47",
   "metadata": {},
   "outputs": [],
   "source": [
    "opt=keras.optimizers.SGD(learning_rate=0.001)\n",
    "model.compile(loss='binary_crossentropy',optimizer=opt,metrics=['accuracy'])"
   ]
  },
  {
   "cell_type": "code",
   "execution_count": 25,
   "id": "4fcde86e",
   "metadata": {},
   "outputs": [
    {
     "name": "stdout",
     "output_type": "stream",
     "text": [
      "Epoch 1/30\n",
      "3136/3136 [==============================] - 83s 26ms/step - loss: 0.2109 - accuracy: 0.9163 - val_loss: 0.2118 - val_accuracy: 0.9131\n",
      "Epoch 2/30\n",
      "3136/3136 [==============================] - 76s 24ms/step - loss: 0.2039 - accuracy: 0.9196 - val_loss: 0.2047 - val_accuracy: 0.9175\n",
      "Epoch 3/30\n",
      "3136/3136 [==============================] - 97s 31ms/step - loss: 0.2013 - accuracy: 0.9210 - val_loss: 0.2098 - val_accuracy: 0.9151\n",
      "Epoch 4/30\n",
      "3136/3136 [==============================] - 101s 32ms/step - loss: 0.1987 - accuracy: 0.9218 - val_loss: 0.2032 - val_accuracy: 0.9176\n",
      "Epoch 5/30\n",
      "3136/3136 [==============================] - 93s 30ms/step - loss: 0.1962 - accuracy: 0.9228 - val_loss: 0.1983 - val_accuracy: 0.9191\n",
      "Epoch 6/30\n",
      "3136/3136 [==============================] - 93s 30ms/step - loss: 0.1943 - accuracy: 0.9236 - val_loss: 0.1963 - val_accuracy: 0.9209\n",
      "Epoch 7/30\n",
      "3136/3136 [==============================] - 92s 29ms/step - loss: 0.1929 - accuracy: 0.9244 - val_loss: 0.1961 - val_accuracy: 0.9208\n",
      "Epoch 8/30\n",
      "3136/3136 [==============================] - 93s 30ms/step - loss: 0.1912 - accuracy: 0.9245 - val_loss: 0.1908 - val_accuracy: 0.9234\n",
      "Epoch 9/30\n",
      "3136/3136 [==============================] - 95s 30ms/step - loss: 0.1903 - accuracy: 0.9252 - val_loss: 0.2015 - val_accuracy: 0.9192\n",
      "Epoch 10/30\n",
      "3136/3136 [==============================] - 89s 28ms/step - loss: 0.1893 - accuracy: 0.9255 - val_loss: 0.1948 - val_accuracy: 0.9219\n",
      "Epoch 11/30\n",
      "3136/3136 [==============================] - 108s 35ms/step - loss: 0.1876 - accuracy: 0.9264 - val_loss: 0.1930 - val_accuracy: 0.9229\n",
      "Epoch 12/30\n",
      "3136/3136 [==============================] - 91s 29ms/step - loss: 0.1868 - accuracy: 0.9267 - val_loss: 0.1901 - val_accuracy: 0.9237\n",
      "Epoch 13/30\n",
      "3136/3136 [==============================] - 614s 196ms/step - loss: 0.1855 - accuracy: 0.9273 - val_loss: 0.1928 - val_accuracy: 0.9230\n",
      "Epoch 14/30\n",
      "3136/3136 [==============================] - 100s 32ms/step - loss: 0.1845 - accuracy: 0.9282 - val_loss: 0.1882 - val_accuracy: 0.9237\n",
      "Epoch 15/30\n",
      "3136/3136 [==============================] - 98s 31ms/step - loss: 0.1835 - accuracy: 0.9279 - val_loss: 0.1882 - val_accuracy: 0.9249\n",
      "Epoch 16/30\n",
      "3136/3136 [==============================] - 93s 30ms/step - loss: 0.1827 - accuracy: 0.9284 - val_loss: 0.1874 - val_accuracy: 0.9249\n",
      "Epoch 17/30\n",
      "3136/3136 [==============================] - 94s 30ms/step - loss: 0.1822 - accuracy: 0.9290 - val_loss: 0.1851 - val_accuracy: 0.9275\n",
      "Epoch 18/30\n",
      "3136/3136 [==============================] - 88s 28ms/step - loss: 0.1812 - accuracy: 0.9291 - val_loss: 0.1818 - val_accuracy: 0.9276\n",
      "Epoch 19/30\n",
      "3136/3136 [==============================] - 86s 27ms/step - loss: 0.1804 - accuracy: 0.9294 - val_loss: 0.1838 - val_accuracy: 0.9287\n",
      "Epoch 20/30\n",
      "3136/3136 [==============================] - 86s 27ms/step - loss: 0.1795 - accuracy: 0.9301 - val_loss: 0.1853 - val_accuracy: 0.9269\n",
      "Epoch 21/30\n",
      "3136/3136 [==============================] - 94s 30ms/step - loss: 0.1784 - accuracy: 0.9303 - val_loss: 0.1801 - val_accuracy: 0.9283\n",
      "Epoch 22/30\n",
      "3136/3136 [==============================] - 89s 28ms/step - loss: 0.1780 - accuracy: 0.9307 - val_loss: 0.1900 - val_accuracy: 0.9257\n",
      "Epoch 23/30\n",
      "3136/3136 [==============================] - 94s 30ms/step - loss: 0.1775 - accuracy: 0.9304 - val_loss: 0.1821 - val_accuracy: 0.9283\n",
      "Epoch 24/30\n",
      "3136/3136 [==============================] - 93s 30ms/step - loss: 0.1763 - accuracy: 0.9310 - val_loss: 0.1831 - val_accuracy: 0.9262\n",
      "Epoch 25/30\n",
      "3136/3136 [==============================] - 93s 30ms/step - loss: 0.1756 - accuracy: 0.9316 - val_loss: 0.1817 - val_accuracy: 0.9277\n",
      "Epoch 26/30\n",
      "3136/3136 [==============================] - 92s 29ms/step - loss: 0.1750 - accuracy: 0.9317 - val_loss: 0.1787 - val_accuracy: 0.9297\n",
      "Epoch 27/30\n",
      "3136/3136 [==============================] - 109s 35ms/step - loss: 0.1744 - accuracy: 0.9319 - val_loss: 0.1790 - val_accuracy: 0.9283\n",
      "Epoch 28/30\n",
      "3136/3136 [==============================] - 93s 30ms/step - loss: 0.1736 - accuracy: 0.9321 - val_loss: 0.1828 - val_accuracy: 0.9290\n",
      "Epoch 29/30\n",
      "3136/3136 [==============================] - 90s 29ms/step - loss: 0.1727 - accuracy: 0.9327 - val_loss: 0.1846 - val_accuracy: 0.9282\n",
      "Epoch 30/30\n",
      "3136/3136 [==============================] - 97s 31ms/step - loss: 0.1723 - accuracy: 0.9332 - val_loss: 0.1790 - val_accuracy: 0.9296\n"
     ]
    }
   ],
   "source": [
    "model_history=model.fit(TRAIN_GENERATOR_RGB,\n",
    "                    epochs = 30,\n",
    "                    validation_data = TEST_GENERATOR_RGB,\n",
    "                    batch_size = 64\n",
    "                   )"
   ]
  },
  {
   "cell_type": "code",
   "execution_count": 63,
   "id": "99431625",
   "metadata": {},
   "outputs": [
    {
     "name": "stdout",
     "output_type": "stream",
     "text": [
      "625/625 [==============================] - 10s 15ms/step - loss: 0.1790 - accuracy: 0.9296\n"
     ]
    },
    {
     "data": {
      "text/plain": [
       "[0.17901043593883514, 0.9296000003814697]"
      ]
     },
     "execution_count": 63,
     "metadata": {},
     "output_type": "execute_result"
    }
   ],
   "source": [
    "model.evaluate(TEST_GENERATOR_RGB)"
   ]
  },
  {
   "cell_type": "code",
   "execution_count": 26,
   "id": "5caa9716",
   "metadata": {},
   "outputs": [
    {
     "data": {
      "image/png": "[encoded data removed]",
      "text/plain": [
       "<Figure size 640x480 with 1 Axes>"
      ]
     },
     "metadata": {},
     "output_type": "display_data"
    },
    {
     "data": {
      "image/png": "[encoded data removed]",
      "text/plain": [
       "<Figure size 640x480 with 1 Axes>"
      ]
     },
     "metadata": {},
     "output_type": "display_data"
    }
   ],
   "source": [
    "plt.plot(model_history.history['accuracy'])\n",
    "plt.plot(model_history.history['val_accuracy'])\n",
    "plt.title('Model accuracy')\n",
    "plt.style.use('default')\n",
    "plt.ylabel('accuracy')\n",
    "plt.xlabel('epoch')\n",
    "plt.legend(['Train', 'Validation'], loc='upper left')\n",
    "plt.show()\n",
    "# summarize history for loss\n",
    "plt.plot(model_history.history['loss'])\n",
    "plt.plot(model_history.history['val_loss'])\n",
    "plt.title('Model loss')\n",
    "plt.style.use('default')\n",
    "plt.ylabel('loss')\n",
    "plt.xlabel('epoch')\n",
    "plt.legend(['Train', 'Validation'], loc='upper left')\n",
    "plt.show()"
   ]
  },
  {
   "cell_type": "code",
   "execution_count": 64,
   "id": "09bc1487",
   "metadata": {},
   "outputs": [],
   "source": [
    "tf.keras.models.save_model(model,'my_model2.hdf5')#saves architecture and weights,so that it can be directly use in web application\n"
   ]
  },
  {
   "cell_type": "code",
   "execution_count": 47,
   "id": "25dc6801",
   "metadata": {},
   "outputs": [
    {
     "name": "stdout",
     "output_type": "stream",
     "text": [
      "Requirement already satisfied: streamlit in /Users/koushikmukka/anaconda3/lib/python3.10/site-packages (1.23.1)\n",
      "Requirement already satisfied: rich<14,>=10.11.0 in /Users/koushikmukka/anaconda3/lib/python3.10/site-packages (from streamlit) (13.4.2)\n",
      "Requirement already satisfied: python-dateutil<3,>=2 in /Users/koushikmukka/anaconda3/lib/python3.10/site-packages (from streamlit) (2.8.2)\n",
      "Requirement already satisfied: importlib-metadata<7,>=1.4 in /Users/koushikmukka/anaconda3/lib/python3.10/site-packages (from streamlit) (4.11.3)\n",
      "Requirement already satisfied: pandas<3,>=0.25 in /Users/koushikmukka/anaconda3/lib/python3.10/site-packages (from streamlit) (1.5.3)\n",
      "Requirement already satisfied: gitpython!=3.1.19,<4,>=3 in /Users/koushikmukka/anaconda3/lib/python3.10/site-packages (from streamlit) (3.1.31)\n",
      "Requirement already satisfied: pyarrow>=4.0 in /Users/koushikmukka/anaconda3/lib/python3.10/site-packages (from streamlit) (12.0.1)\n",
      "Requirement already satisfied: protobuf<5,>=3.20 in /Users/koushikmukka/anaconda3/lib/python3.10/site-packages (from streamlit) (3.20.3)\n",
      "Requirement already satisfied: click<9,>=7.0 in /Users/koushikmukka/anaconda3/lib/python3.10/site-packages (from streamlit) (8.0.4)\n",
      "Requirement already satisfied: pydeck<1,>=0.1.dev5 in /Users/koushikmukka/anaconda3/lib/python3.10/site-packages (from streamlit) (0.8.1b0)\n",
      "Requirement already satisfied: tenacity<9,>=8.0.0 in /Users/koushikmukka/anaconda3/lib/python3.10/site-packages (from streamlit) (8.0.1)\n",
      "Requirement already satisfied: packaging<24,>=14.1 in /Users/koushikmukka/anaconda3/lib/python3.10/site-packages (from streamlit) (22.0)\n",
      "Requirement already satisfied: validators<1,>=0.2 in /Users/koushikmukka/anaconda3/lib/python3.10/site-packages (from streamlit) (0.20.0)\n",
      "Requirement already satisfied: tornado<7,>=6.0.3 in /Users/koushikmukka/anaconda3/lib/python3.10/site-packages (from streamlit) (6.1)\n",
      "Requirement already satisfied: requests<3,>=2.4 in /Users/koushikmukka/anaconda3/lib/python3.10/site-packages (from streamlit) (2.28.1)\n",
      "Requirement already satisfied: blinker<2,>=1.0.0 in /Users/koushikmukka/anaconda3/lib/python3.10/site-packages (from streamlit) (1.4)\n",
      "Requirement already satisfied: cachetools<6,>=4.0 in /Users/koushikmukka/anaconda3/lib/python3.10/site-packages (from streamlit) (4.2.2)\n",
      "Requirement already satisfied: tzlocal<5,>=1.1 in /Users/koushikmukka/anaconda3/lib/python3.10/site-packages (from streamlit) (4.3.1)\n",
      "Requirement already satisfied: altair<6,>=4.0 in /Users/koushikmukka/anaconda3/lib/python3.10/site-packages (from streamlit) (5.0.1)\n",
      "Requirement already satisfied: numpy<2,>=1 in /Users/koushikmukka/anaconda3/lib/python3.10/site-packages (from streamlit) (1.23.5)\n",
      "Requirement already satisfied: toml<2 in /Users/koushikmukka/anaconda3/lib/python3.10/site-packages (from streamlit) (0.10.2)\n",
      "Requirement already satisfied: typing-extensions<5,>=4.0.1 in /Users/koushikmukka/anaconda3/lib/python3.10/site-packages (from streamlit) (4.4.0)\n",
      "Requirement already satisfied: pympler<2,>=0.9 in /Users/koushikmukka/anaconda3/lib/python3.10/site-packages (from streamlit) (1.0.1)\n",
      "Requirement already satisfied: pillow<10,>=6.2.0 in /Users/koushikmukka/anaconda3/lib/python3.10/site-packages (from streamlit) (9.4.0)\n",
      "Requirement already satisfied: jinja2 in /Users/koushikmukka/anaconda3/lib/python3.10/site-packages (from altair<6,>=4.0->streamlit) (3.1.2)\n",
      "Requirement already satisfied: toolz in /Users/koushikmukka/anaconda3/lib/python3.10/site-packages (from altair<6,>=4.0->streamlit) (0.12.0)\n",
      "Requirement already satisfied: jsonschema>=3.0 in /Users/koushikmukka/anaconda3/lib/python3.10/site-packages (from altair<6,>=4.0->streamlit) (4.17.3)\n",
      "Requirement already satisfied: gitdb<5,>=4.0.1 in /Users/koushikmukka/anaconda3/lib/python3.10/site-packages (from gitpython!=3.1.19,<4,>=3->streamlit) (4.0.10)\n",
      "Requirement already satisfied: zipp>=0.5 in /Users/koushikmukka/anaconda3/lib/python3.10/site-packages (from importlib-metadata<7,>=1.4->streamlit) (3.11.0)\n",
      "Requirement already satisfied: pytz>=2020.1 in /Users/koushikmukka/anaconda3/lib/python3.10/site-packages (from pandas<3,>=0.25->streamlit) (2022.7)\n",
      "Requirement already satisfied: six>=1.5 in /Users/koushikmukka/anaconda3/lib/python3.10/site-packages (from python-dateutil<3,>=2->streamlit) (1.16.0)\n",
      "Requirement already satisfied: certifi>=2017.4.17 in /Users/koushikmukka/anaconda3/lib/python3.10/site-packages (from requests<3,>=2.4->streamlit) (2022.12.7)\n",
      "Requirement already satisfied: idna<4,>=2.5 in /Users/koushikmukka/anaconda3/lib/python3.10/site-packages (from requests<3,>=2.4->streamlit) (3.4)\n",
      "Requirement already satisfied: urllib3<1.27,>=1.21.1 in /Users/koushikmukka/anaconda3/lib/python3.10/site-packages (from requests<3,>=2.4->streamlit) (1.26.14)\n",
      "Requirement already satisfied: charset-normalizer<3,>=2 in /Users/koushikmukka/anaconda3/lib/python3.10/site-packages (from requests<3,>=2.4->streamlit) (2.0.4)\n",
      "Requirement already satisfied: pygments<3.0.0,>=2.13.0 in /Users/koushikmukka/anaconda3/lib/python3.10/site-packages (from rich<14,>=10.11.0->streamlit) (2.15.1)\n",
      "Requirement already satisfied: markdown-it-py>=2.2.0 in /Users/koushikmukka/anaconda3/lib/python3.10/site-packages (from rich<14,>=10.11.0->streamlit) (3.0.0)\n",
      "Requirement already satisfied: pytz-deprecation-shim in /Users/koushikmukka/anaconda3/lib/python3.10/site-packages (from tzlocal<5,>=1.1->streamlit) (0.1.0.post0)\n",
      "Requirement already satisfied: decorator>=3.4.0 in /Users/koushikmukka/anaconda3/lib/python3.10/site-packages (from validators<1,>=0.2->streamlit) (5.1.1)\n",
      "Requirement already satisfied: smmap<6,>=3.0.1 in /Users/koushikmukka/anaconda3/lib/python3.10/site-packages (from gitdb<5,>=4.0.1->gitpython!=3.1.19,<4,>=3->streamlit) (5.0.0)\n",
      "Requirement already satisfied: MarkupSafe>=2.0 in /Users/koushikmukka/anaconda3/lib/python3.10/site-packages (from jinja2->altair<6,>=4.0->streamlit) (2.1.1)\n",
      "Requirement already satisfied: pyrsistent!=0.17.0,!=0.17.1,!=0.17.2,>=0.14.0 in /Users/koushikmukka/anaconda3/lib/python3.10/site-packages (from jsonschema>=3.0->altair<6,>=4.0->streamlit) (0.18.0)\n",
      "Requirement already satisfied: attrs>=17.4.0 in /Users/koushikmukka/anaconda3/lib/python3.10/site-packages (from jsonschema>=3.0->altair<6,>=4.0->streamlit) (22.1.0)\n",
      "Requirement already satisfied: mdurl~=0.1 in /Users/koushikmukka/anaconda3/lib/python3.10/site-packages (from markdown-it-py>=2.2.0->rich<14,>=10.11.0->streamlit) (0.1.2)\n",
      "Requirement already satisfied: tzdata in /Users/koushikmukka/anaconda3/lib/python3.10/site-packages (from pytz-deprecation-shim->tzlocal<5,>=1.1->streamlit) (2023.3)\n"
     ]
    }
   ],
   "source": [
    "!pip3 install streamlit"
   ]
  },
  {
   "cell_type": "code",
   "execution_count": 74,
   "id": "42baddfb",
   "metadata": {},
   "outputs": [
    {
     "name": "stdout",
     "output_type": "stream",
     "text": [
      "Overwriting app.py\n"
     ]
    },
    {
     "name": "stderr",
     "output_type": "stream",
     "text": [
      "t=2023-06-22T19:49:34+0530 lvl=eror msg=\"heartbeat timeout, terminating session\" obj=tunnels.session obj=csess id=554996eccd52 clientid=b38aee3bf11fcfa5f8758c7239448b86\n",
      "t=2023-06-22T19:49:34+0530 lvl=eror msg=\"session closed, starting reconnect loop\" obj=tunnels.session obj=csess id=bf8f92cb5a49 err=\"session closed\"\n",
      "t=2023-06-22T21:06:26+0530 lvl=eror msg=\"session closed, starting reconnect loop\" obj=tunnels.session obj=csess id=bf8f92cb5a49 err=\"read tcp 192.168.29.26:61748->3.134.73.173:443: read: operation timed out\"\n",
      "t=2023-06-22T21:23:08+0530 lvl=eror msg=\"heartbeat timeout, terminating session\" obj=tunnels.session obj=csess id=0fbdd470654a clientid=b38aee3bf11fcfa5f8758c7239448b86\n",
      "t=2023-06-22T21:30:29+0530 lvl=eror msg=\"heartbeat timeout, terminating session\" obj=tunnels.session obj=csess id=6796d789008e clientid=b38aee3bf11fcfa5f8758c7239448b86\n",
      "t=2023-06-22T21:30:29+0530 lvl=eror msg=\"session closed, starting reconnect loop\" obj=tunnels.session obj=csess id=bf8f92cb5a49 err=\"session closed\"\n",
      "t=2023-06-23T00:10:06+0530 lvl=eror msg=\"session closed, starting reconnect loop\" obj=tunnels.session obj=csess id=bf8f92cb5a49 err=\"read tcp [2405:201:c408:18d:81e1:f1d9:238d:7f46]:61907->[2600:1f16:d83:1201::6e74:4]:443: read: operation timed out\"\n",
      "t=2023-06-23T00:10:09+0530 lvl=eror msg=\"heartbeat timeout, terminating session\" obj=tunnels.session obj=csess id=06ae03e4c091 clientid=b38aee3bf11fcfa5f8758c7239448b86\n",
      "t=2023-06-23T00:59:03+0530 lvl=eror msg=\"session closed, starting reconnect loop\" obj=tunnels.session obj=csess id=bf8f92cb5a49 err=\"read tcp [2405:201:c408:18d:81e1:f1d9:238d:7f46]:62377->[2600:1f16:d83:1200::6e74:0]:443: read: operation timed out\"\n",
      "t=2023-06-23T01:15:35+0530 lvl=eror msg=\"heartbeat timeout, terminating session\" obj=tunnels.session obj=csess id=8bc3894980d7 clientid=b38aee3bf11fcfa5f8758c7239448b86\n",
      "t=2023-06-23T01:32:28+0530 lvl=eror msg=\"heartbeat timeout, terminating session\" obj=tunnels.session obj=csess id=e5cb40293803 clientid=b38aee3bf11fcfa5f8758c7239448b86\n",
      "t=2023-06-23T01:32:28+0530 lvl=eror msg=\"session closed, starting reconnect loop\" obj=tunnels.session obj=csess id=bf8f92cb5a49 err=\"session closed\"\n",
      "t=2023-06-23T02:06:34+0530 lvl=eror msg=\"heartbeat timeout, terminating session\" obj=tunnels.session obj=csess id=7380cf7dbe93 clientid=b38aee3bf11fcfa5f8758c7239448b86\n",
      "t=2023-06-23T02:06:34+0530 lvl=eror msg=\"session closed, starting reconnect loop\" obj=tunnels.session obj=csess id=bf8f92cb5a49 err=\"session closed\"\n",
      "t=2023-06-23T02:55:16+0530 lvl=eror msg=\"failed to reconnect session\" obj=tunnels.session obj=csess id=bf8f92cb5a49 err=\"failed to send authentication request: session closed\"\n",
      "t=2023-06-23T04:00:44+0530 lvl=eror msg=\"failed to reconnect session\" obj=tunnels.session obj=csess id=bf8f92cb5a49 err=\"failed to send authentication request: session closed\"\n",
      "t=2023-06-23T04:51:14+0530 lvl=eror msg=\"session closed, starting reconnect loop\" obj=tunnels.session obj=csess id=bf8f92cb5a49 err=\"read tcp [2405:201:c408:18d:81e1:f1d9:238d:7f46]:62584->[2600:1f16:d83:1202::6e74:2]:443: read: operation timed out\"\n",
      "t=2023-06-23T05:07:11+0530 lvl=eror msg=\"heartbeat timeout, terminating session\" obj=tunnels.session obj=csess id=bba6dd0e4927 clientid=b38aee3bf11fcfa5f8758c7239448b86\n",
      "t=2023-06-23T05:58:54+0530 lvl=eror msg=\"session closed, starting reconnect loop\" obj=tunnels.session obj=csess id=bf8f92cb5a49 err=\"read tcp [2405:201:c408:18d:81e1:f1d9:238d:7f46]:62629->[2600:1f16:d83:1200::6e74:0]:443: read: operation timed out\"\n",
      "t=2023-06-23T06:14:52+0530 lvl=eror msg=\"heartbeat timeout, terminating session\" obj=tunnels.session obj=csess id=4c1bae758a0c clientid=b38aee3bf11fcfa5f8758c7239448b86\n",
      "t=2023-06-23T06:46:06+0530 lvl=eror msg=\"heartbeat timeout, terminating session\" obj=tunnels.session obj=csess id=f1012d767f25 clientid=b38aee3bf11fcfa5f8758c7239448b86\n",
      "t=2023-06-23T06:46:06+0530 lvl=eror msg=\"session closed, starting reconnect loop\" obj=tunnels.session obj=csess id=bf8f92cb5a49 err=\"session closed\"\n",
      "t=2023-06-23T07:26:55+0530 lvl=eror msg=\"heartbeat timeout, terminating session\" obj=tunnels.session obj=csess id=aabecc4706f7 clientid=b38aee3bf11fcfa5f8758c7239448b86\n",
      "t=2023-06-23T07:26:55+0530 lvl=eror msg=\"session closed, starting reconnect loop\" obj=tunnels.session obj=csess id=bf8f92cb5a49 err=\"session closed\"\n",
      "t=2023-06-23T08:15:57+0530 lvl=eror msg=\"session closed, starting reconnect loop\" obj=tunnels.session obj=csess id=bf8f92cb5a49 err=\"read tcp 192.168.29.26:62771->3.136.132.147:443: read: operation timed out\"\n",
      "t=2023-06-23T08:23:49+0530 lvl=eror msg=\"heartbeat timeout, terminating session\" obj=tunnels.session obj=csess id=e54f77381626 clientid=b38aee3bf11fcfa5f8758c7239448b86\n",
      "t=2023-06-23T08:30:32+0530 lvl=eror msg=\"heartbeat timeout, terminating session\" obj=tunnels.session obj=csess id=1fe8af3c66cf clientid=b38aee3bf11fcfa5f8758c7239448b86\n",
      "t=2023-06-23T08:30:32+0530 lvl=eror msg=\"session closed, starting reconnect loop\" obj=tunnels.session obj=csess id=bf8f92cb5a49 err=\"session closed\"\n",
      "t=2023-06-23T08:59:37+0530 lvl=eror msg=\"session closed, starting reconnect loop\" obj=tunnels.session obj=csess id=bf8f92cb5a49 err=\"read tcp [2405:201:c408:18d:81e1:f1d9:238d:7f46]:62843->[2600:1f16:d83:1201::6e74:1]:443: read: operation timed out\"\n",
      "t=2023-06-23T08:59:40+0530 lvl=eror msg=\"heartbeat timeout, terminating session\" obj=tunnels.session obj=csess id=8fcd0c2d5420 clientid=b38aee3bf11fcfa5f8758c7239448b86\n",
      "t=2023-06-23T09:36:27+0530 lvl=eror msg=\"session closed, starting reconnect loop\" obj=tunnels.session obj=csess id=bf8f92cb5a49 err=\"read EOF from remote peer\"\n",
      "t=2023-06-23T09:43:20+0530 lvl=eror msg=\"heartbeat timeout, terminating session\" obj=tunnels.session obj=csess id=82641aef8d43 clientid=b38aee3bf11fcfa5f8758c7239448b86\n",
      "t=2023-06-23T09:43:20+0530 lvl=eror msg=\"heartbeat timeout, terminating session\" obj=tunnels.session obj=csess id=1336666a303b clientid=b38aee3bf11fcfa5f8758c7239448b86\n",
      "t=2023-06-23T09:43:20+0530 lvl=eror msg=\"session closed, starting reconnect loop\" obj=tunnels.session obj=csess id=bf8f92cb5a49 err=\"session closed\"\n",
      "t=2023-06-23T09:43:26+0530 lvl=eror msg=\"failed to reconnect session\" obj=tunnels.session obj=csess id=bf8f92cb5a49 err=\"failed to dial ngrok server with address \\\"tunnel.us.ngrok.com:443\\\": dial tcp: lookup tunnel.us.ngrok.com: no such host\"\n",
      "t=2023-06-23T09:43:26+0530 lvl=eror msg=\"failed to reconnect session\" obj=tunnels.session obj=csess id=bf8f92cb5a49 err=\"failed to dial ngrok server with address \\\"tunnel.us.ngrok.com:443\\\": dial tcp: lookup tunnel.us.ngrok.com: no such host\"\n",
      "t=2023-06-23T09:43:27+0530 lvl=eror msg=\"failed to reconnect session\" obj=tunnels.session obj=csess id=bf8f92cb5a49 err=\"failed to dial ngrok server with address \\\"tunnel.us.ngrok.com:443\\\": dial tcp: lookup tunnel.us.ngrok.com: no such host\"\n",
      "t=2023-06-23T09:43:29+0530 lvl=eror msg=\"failed to reconnect session\" obj=tunnels.session obj=csess id=bf8f92cb5a49 err=\"failed to dial ngrok server with address \\\"tunnel.us.ngrok.com:443\\\": dial tcp: lookup tunnel.us.ngrok.com: no such host\"\n",
      "t=2023-06-23T09:43:33+0530 lvl=eror msg=\"failed to reconnect session\" obj=tunnels.session obj=csess id=bf8f92cb5a49 err=\"failed to dial ngrok server with address \\\"tunnel.us.ngrok.com:443\\\": dial tcp: lookup tunnel.us.ngrok.com: no such host\"\n",
      "t=2023-06-23T09:43:41+0530 lvl=eror msg=\"failed to reconnect session\" obj=tunnels.session obj=csess id=bf8f92cb5a49 err=\"failed to dial ngrok server with address \\\"tunnel.us.ngrok.com:443\\\": dial tcp: lookup tunnel.us.ngrok.com: no such host\"\n",
      "t=2023-06-23T09:43:57+0530 lvl=eror msg=\"failed to reconnect session\" obj=tunnels.session obj=csess id=bf8f92cb5a49 err=\"failed to dial ngrok server with address \\\"tunnel.us.ngrok.com:443\\\": dial tcp: lookup tunnel.us.ngrok.com: no such host\"\n",
      "t=2023-06-23T09:44:27+0530 lvl=eror msg=\"failed to reconnect session\" obj=tunnels.session obj=csess id=bf8f92cb5a49 err=\"failed to dial ngrok server with address \\\"tunnel.us.ngrok.com:443\\\": dial tcp: lookup tunnel.us.ngrok.com: no such host\"\n",
      "t=2023-06-23T09:51:36+0530 lvl=eror msg=\"failed to reconnect session\" obj=tunnels.session obj=csess id=bf8f92cb5a49 err=\"failed to dial ngrok server with address \\\"tunnel.us.ngrok.com:443\\\": dial tcp: lookup tunnel.us.ngrok.com: no such host\"\n"
     ]
    },
    {
     "name": "stderr",
     "output_type": "stream",
     "text": [
      "t=2023-06-23T09:52:06+0530 lvl=eror msg=\"failed to reconnect session\" obj=tunnels.session obj=csess id=bf8f92cb5a49 err=\"failed to dial ngrok server with address \\\"tunnel.us.ngrok.com:443\\\": dial tcp: lookup tunnel.us.ngrok.com: no such host\"\n",
      "t=2023-06-23T10:57:54+0530 lvl=eror msg=\"failed to reconnect session\" obj=tunnels.session obj=csess id=bf8f92cb5a49 err=\"failed to dial ngrok server with address \\\"tunnel.us.ngrok.com:443\\\": dial tcp: lookup tunnel.us.ngrok.com: no such host\"\n",
      "t=2023-06-23T12:05:29+0530 lvl=eror msg=\"failed to reconnect session\" obj=tunnels.session obj=csess id=bf8f92cb5a49 err=\"failed to dial ngrok server with address \\\"tunnel.us.ngrok.com:443\\\": dial tcp: lookup tunnel.us.ngrok.com: no such host\"\n",
      "t=2023-06-23T12:28:13+0530 lvl=eror msg=\"failed to reconnect session\" obj=tunnels.session obj=csess id=bf8f92cb5a49 err=\"failed to dial ngrok server with address \\\"tunnel.us.ngrok.com:443\\\": dial tcp: lookup tunnel.us.ngrok.com: no such host\"\n",
      "t=2023-06-23T12:28:43+0530 lvl=eror msg=\"failed to reconnect session\" obj=tunnels.session obj=csess id=bf8f92cb5a49 err=\"failed to dial ngrok server with address \\\"tunnel.us.ngrok.com:443\\\": dial tcp: lookup tunnel.us.ngrok.com: no such host\"\n",
      "t=2023-06-23T12:29:13+0530 lvl=eror msg=\"failed to reconnect session\" obj=tunnels.session obj=csess id=bf8f92cb5a49 err=\"failed to dial ngrok server with address \\\"tunnel.us.ngrok.com:443\\\": dial tcp: lookup tunnel.us.ngrok.com: no such host\"\n",
      "t=2023-06-23T12:29:43+0530 lvl=eror msg=\"failed to reconnect session\" obj=tunnels.session obj=csess id=bf8f92cb5a49 err=\"failed to dial ngrok server with address \\\"tunnel.us.ngrok.com:443\\\": dial tcp: lookup tunnel.us.ngrok.com: no such host\"\n",
      "t=2023-06-23T12:30:13+0530 lvl=eror msg=\"failed to reconnect session\" obj=tunnels.session obj=csess id=bf8f92cb5a49 err=\"failed to dial ngrok server with address \\\"tunnel.us.ngrok.com:443\\\": dial tcp: lookup tunnel.us.ngrok.com: no such host\"\n",
      "t=2023-06-23T12:30:43+0530 lvl=eror msg=\"failed to reconnect session\" obj=tunnels.session obj=csess id=bf8f92cb5a49 err=\"failed to dial ngrok server with address \\\"tunnel.us.ngrok.com:443\\\": dial tcp: lookup tunnel.us.ngrok.com: no such host\"\n",
      "t=2023-06-23T12:31:13+0530 lvl=eror msg=\"failed to reconnect session\" obj=tunnels.session obj=csess id=bf8f92cb5a49 err=\"failed to dial ngrok server with address \\\"tunnel.us.ngrok.com:443\\\": dial tcp: lookup tunnel.us.ngrok.com: no such host\"\n",
      "t=2023-06-23T12:31:43+0530 lvl=eror msg=\"failed to reconnect session\" obj=tunnels.session obj=csess id=bf8f92cb5a49 err=\"failed to dial ngrok server with address \\\"tunnel.us.ngrok.com:443\\\": dial tcp: lookup tunnel.us.ngrok.com: no such host\"\n",
      "t=2023-06-23T12:32:13+0530 lvl=eror msg=\"failed to reconnect session\" obj=tunnels.session obj=csess id=bf8f92cb5a49 err=\"failed to dial ngrok server with address \\\"tunnel.us.ngrok.com:443\\\": dial tcp: lookup tunnel.us.ngrok.com: no such host\"\n",
      "t=2023-06-23T12:32:43+0530 lvl=eror msg=\"failed to reconnect session\" obj=tunnels.session obj=csess id=bf8f92cb5a49 err=\"failed to dial ngrok server with address \\\"tunnel.us.ngrok.com:443\\\": dial tcp: lookup tunnel.us.ngrok.com: no such host\"\n",
      "t=2023-06-23T12:33:13+0530 lvl=eror msg=\"failed to reconnect session\" obj=tunnels.session obj=csess id=bf8f92cb5a49 err=\"failed to dial ngrok server with address \\\"tunnel.us.ngrok.com:443\\\": dial tcp: lookup tunnel.us.ngrok.com: no such host\"\n",
      "t=2023-06-23T12:33:43+0530 lvl=eror msg=\"failed to reconnect session\" obj=tunnels.session obj=csess id=bf8f92cb5a49 err=\"failed to dial ngrok server with address \\\"tunnel.us.ngrok.com:443\\\": dial tcp: lookup tunnel.us.ngrok.com: no such host\"\n",
      "t=2023-06-23T12:34:13+0530 lvl=eror msg=\"failed to reconnect session\" obj=tunnels.session obj=csess id=bf8f92cb5a49 err=\"failed to dial ngrok server with address \\\"tunnel.us.ngrok.com:443\\\": dial tcp: lookup tunnel.us.ngrok.com: no such host\"\n",
      "t=2023-06-23T12:34:43+0530 lvl=eror msg=\"failed to reconnect session\" obj=tunnels.session obj=csess id=bf8f92cb5a49 err=\"failed to dial ngrok server with address \\\"tunnel.us.ngrok.com:443\\\": dial tcp: lookup tunnel.us.ngrok.com: no such host\"\n",
      "t=2023-06-23T12:35:13+0530 lvl=eror msg=\"failed to reconnect session\" obj=tunnels.session obj=csess id=bf8f92cb5a49 err=\"failed to dial ngrok server with address \\\"tunnel.us.ngrok.com:443\\\": dial tcp: lookup tunnel.us.ngrok.com: no such host\"\n",
      "t=2023-06-23T12:35:43+0530 lvl=eror msg=\"failed to reconnect session\" obj=tunnels.session obj=csess id=bf8f92cb5a49 err=\"failed to dial ngrok server with address \\\"tunnel.us.ngrok.com:443\\\": dial tcp: lookup tunnel.us.ngrok.com: no such host\"\n",
      "t=2023-06-23T12:36:13+0530 lvl=eror msg=\"failed to reconnect session\" obj=tunnels.session obj=csess id=bf8f92cb5a49 err=\"failed to dial ngrok server with address \\\"tunnel.us.ngrok.com:443\\\": dial tcp: lookup tunnel.us.ngrok.com: no such host\"\n",
      "t=2023-06-23T12:36:43+0530 lvl=eror msg=\"failed to reconnect session\" obj=tunnels.session obj=csess id=bf8f92cb5a49 err=\"failed to dial ngrok server with address \\\"tunnel.us.ngrok.com:443\\\": dial tcp: lookup tunnel.us.ngrok.com: no such host\"\n",
      "t=2023-06-23T12:36:48+0530 lvl=warn msg=\"failed to check for update\" obj=updater err=\"Post \\\"https://update.equinox.io/check\\\": dial tcp: lookup update.equinox.io: no such host\"\n",
      "t=2023-06-23T12:37:13+0530 lvl=eror msg=\"failed to reconnect session\" obj=tunnels.session obj=csess id=bf8f92cb5a49 err=\"failed to dial ngrok server with address \\\"tunnel.us.ngrok.com:443\\\": dial tcp: lookup tunnel.us.ngrok.com: no such host\"\n",
      "t=2023-06-23T12:37:43+0530 lvl=eror msg=\"failed to reconnect session\" obj=tunnels.session obj=csess id=bf8f92cb5a49 err=\"failed to dial ngrok server with address \\\"tunnel.us.ngrok.com:443\\\": dial tcp: lookup tunnel.us.ngrok.com: no such host\"\n",
      "t=2023-06-23T12:38:13+0530 lvl=eror msg=\"failed to reconnect session\" obj=tunnels.session obj=csess id=bf8f92cb5a49 err=\"failed to dial ngrok server with address \\\"tunnel.us.ngrok.com:443\\\": dial tcp: lookup tunnel.us.ngrok.com: no such host\"\n",
      "t=2023-06-23T12:38:43+0530 lvl=eror msg=\"failed to reconnect session\" obj=tunnels.session obj=csess id=bf8f92cb5a49 err=\"failed to dial ngrok server with address \\\"tunnel.us.ngrok.com:443\\\": dial tcp: lookup tunnel.us.ngrok.com: no such host\"\n",
      "t=2023-06-23T12:39:13+0530 lvl=eror msg=\"failed to reconnect session\" obj=tunnels.session obj=csess id=bf8f92cb5a49 err=\"failed to dial ngrok server with address \\\"tunnel.us.ngrok.com:443\\\": dial tcp: lookup tunnel.us.ngrok.com: no such host\"\n",
      "t=2023-06-23T12:39:43+0530 lvl=eror msg=\"failed to reconnect session\" obj=tunnels.session obj=csess id=bf8f92cb5a49 err=\"failed to dial ngrok server with address \\\"tunnel.us.ngrok.com:443\\\": dial tcp: lookup tunnel.us.ngrok.com: no such host\"\n",
      "t=2023-06-23T12:40:13+0530 lvl=eror msg=\"failed to reconnect session\" obj=tunnels.session obj=csess id=bf8f92cb5a49 err=\"failed to dial ngrok server with address \\\"tunnel.us.ngrok.com:443\\\": dial tcp: lookup tunnel.us.ngrok.com: no such host\"\n",
      "t=2023-06-23T12:40:43+0530 lvl=eror msg=\"failed to reconnect session\" obj=tunnels.session obj=csess id=bf8f92cb5a49 err=\"failed to dial ngrok server with address \\\"tunnel.us.ngrok.com:443\\\": dial tcp: lookup tunnel.us.ngrok.com: no such host\"\n",
      "t=2023-06-23T12:41:13+0530 lvl=eror msg=\"failed to reconnect session\" obj=tunnels.session obj=csess id=bf8f92cb5a49 err=\"failed to dial ngrok server with address \\\"tunnel.us.ngrok.com:443\\\": dial tcp: lookup tunnel.us.ngrok.com: no such host\"\n",
      "t=2023-06-23T12:41:43+0530 lvl=eror msg=\"failed to reconnect session\" obj=tunnels.session obj=csess id=bf8f92cb5a49 err=\"failed to dial ngrok server with address \\\"tunnel.us.ngrok.com:443\\\": dial tcp: lookup tunnel.us.ngrok.com: no such host\"\n",
      "t=2023-06-23T12:42:13+0530 lvl=eror msg=\"failed to reconnect session\" obj=tunnels.session obj=csess id=bf8f92cb5a49 err=\"failed to dial ngrok server with address \\\"tunnel.us.ngrok.com:443\\\": dial tcp: lookup tunnel.us.ngrok.com: no such host\"\n",
      "t=2023-06-23T12:42:43+0530 lvl=eror msg=\"failed to reconnect session\" obj=tunnels.session obj=csess id=bf8f92cb5a49 err=\"failed to dial ngrok server with address \\\"tunnel.us.ngrok.com:443\\\": dial tcp: lookup tunnel.us.ngrok.com: no such host\"\n"
     ]
    },
    {
     "name": "stderr",
     "output_type": "stream",
     "text": [
      "t=2023-06-23T12:43:13+0530 lvl=eror msg=\"failed to reconnect session\" obj=tunnels.session obj=csess id=bf8f92cb5a49 err=\"failed to dial ngrok server with address \\\"tunnel.us.ngrok.com:443\\\": dial tcp: lookup tunnel.us.ngrok.com: no such host\"\n",
      "t=2023-06-23T12:43:43+0530 lvl=eror msg=\"failed to reconnect session\" obj=tunnels.session obj=csess id=bf8f92cb5a49 err=\"failed to dial ngrok server with address \\\"tunnel.us.ngrok.com:443\\\": dial tcp: lookup tunnel.us.ngrok.com: no such host\"\n",
      "t=2023-06-23T12:44:13+0530 lvl=eror msg=\"failed to reconnect session\" obj=tunnels.session obj=csess id=bf8f92cb5a49 err=\"failed to dial ngrok server with address \\\"tunnel.us.ngrok.com:443\\\": dial tcp: lookup tunnel.us.ngrok.com: no such host\"\n",
      "t=2023-06-23T12:44:43+0530 lvl=eror msg=\"failed to reconnect session\" obj=tunnels.session obj=csess id=bf8f92cb5a49 err=\"failed to dial ngrok server with address \\\"tunnel.us.ngrok.com:443\\\": dial tcp: lookup tunnel.us.ngrok.com: no such host\"\n",
      "t=2023-06-23T13:42:04+0530 lvl=eror msg=\"session closed, starting reconnect loop\" obj=tunnels.session obj=csess id=bf8f92cb5a49 err=\"read tcp [2409:4070:2cbf:5a:4590:988:b737:f2d6]:63156->[2600:1f16:d83:1200::6e74:3]:443: read: connection reset by peer\"\n",
      "t=2023-06-23T13:57:15+0530 lvl=eror msg=\"session closed, starting reconnect loop\" obj=tunnels.session obj=csess id=bf8f92cb5a49 err=\"read tcp [2409:4070:2cbf:5a:4590:988:b737:f2d6]:63269->[2600:1f16:d83:1200::6e74:3]:443: read: connection reset by peer\"\n",
      "t=2023-06-23T14:01:03+0530 lvl=eror msg=\"heartbeat timeout, terminating session\" obj=tunnels.session obj=csess id=3a4665cc7afb clientid=b38aee3bf11fcfa5f8758c7239448b86\n",
      "t=2023-06-23T14:01:13+0530 lvl=eror msg=\"heartbeat timeout, terminating session\" obj=tunnels.session obj=csess id=36542fae66d8 clientid=b38aee3bf11fcfa5f8758c7239448b86\n",
      "t=2023-06-23T14:07:42+0530 lvl=eror msg=\"session closed, starting reconnect loop\" obj=tunnels.session obj=csess id=bf8f92cb5a49 err=\"read tcp 192.168.24.174:63313->3.134.73.173:443: read: connection reset by peer\"\n",
      "t=2023-06-23T14:08:06+0530 lvl=eror msg=\"heartbeat timeout, terminating session\" obj=tunnels.session obj=csess id=bfeca37bffe9 clientid=b38aee3bf11fcfa5f8758c7239448b86\n",
      "t=2023-06-23T18:13:26+0530 lvl=eror msg=\"heartbeat timeout, terminating session\" obj=tunnels.session obj=csess id=428cff5e7e67 clientid=b38aee3bf11fcfa5f8758c7239448b86\n",
      "t=2023-06-23T18:13:26+0530 lvl=eror msg=\"session closed, starting reconnect loop\" obj=tunnels.session obj=csess id=bf8f92cb5a49 err=\"session closed\"\n",
      "t=2023-06-23T19:32:36+0530 lvl=eror msg=\"session closed, starting reconnect loop\" obj=tunnels.session obj=csess id=bf8f92cb5a49 err=\"read tcp [2409:4070:2cbf:5a:4590:988:b737:f2d6]:64065->[2600:1f16:d83:1200::6e74:0]:443: read: connection reset by peer\"\n",
      "t=2023-06-23T19:32:51+0530 lvl=eror msg=\"heartbeat timeout, terminating session\" obj=tunnels.session obj=csess id=eae7e1810f08 clientid=b38aee3bf11fcfa5f8758c7239448b86\n",
      "t=2023-06-23T20:11:03+0530 lvl=eror msg=\"session closed, starting reconnect loop\" obj=tunnels.session obj=csess id=bf8f92cb5a49 err=\"read tcp [2409:4070:2cbf:5a:4590:988:b737:f2d6]:64531->[2600:1f16:d83:1201::6e74:4]:443: read: connection reset by peer\"\n",
      "t=2023-06-23T20:23:39+0530 lvl=eror msg=\"session closed, starting reconnect loop\" obj=tunnels.session obj=csess id=bf8f92cb5a49 err=\"read tcp [2409:4070:2cbf:5a:4590:988:b737:f2d6]:64615->[2600:1f16:d83:1202::6e74:2]:443: read: connection reset by peer\"\n",
      "t=2023-06-23T20:23:40+0530 lvl=eror msg=\"heartbeat timeout, terminating session\" obj=tunnels.session obj=csess id=de8930572d93 clientid=b38aee3bf11fcfa5f8758c7239448b86\n",
      "t=2023-06-23T20:23:54+0530 lvl=eror msg=\"heartbeat timeout, terminating session\" obj=tunnels.session obj=csess id=b0af300c6ec3 clientid=b38aee3bf11fcfa5f8758c7239448b86\n",
      "t=2023-06-23T20:46:18+0530 lvl=eror msg=\"session closed, starting reconnect loop\" obj=tunnels.session obj=csess id=bf8f92cb5a49 err=\"read EOF from remote peer\"\n",
      "t=2023-06-23T20:46:33+0530 lvl=eror msg=\"heartbeat timeout, terminating session\" obj=tunnels.session obj=csess id=4adbb65becbc clientid=b38aee3bf11fcfa5f8758c7239448b86\n",
      "t=2023-06-23T21:01:57+0530 lvl=eror msg=\"heartbeat timeout, terminating session\" obj=tunnels.session obj=csess id=412bcbebcb4f clientid=b38aee3bf11fcfa5f8758c7239448b86\n",
      "t=2023-06-23T21:01:57+0530 lvl=eror msg=\"session closed, starting reconnect loop\" obj=tunnels.session obj=csess id=bf8f92cb5a49 err=\"session closed\"\n"
     ]
    }
   ],
   "source": [
    "%%writefile app.py\n",
    "import streamlit as st\n",
    "import tensorflow as tf\n",
    "st.set_option('deprecation.showfileUploaderEncoding',False)\n",
    "class_names = ['Fake','Real']\n",
    "@st.cache_data#so that we dont need to load the model each time\n",
    "def load_model():\n",
    "  model=tf.keras.models.load_model('/Users/koushikmukka/Desktop/my_model2.hdf5')\n",
    "  return model\n",
    "\n",
    "\n",
    "with st.spinner('Model is being loaded..'):\n",
    "  model=load_model()\n",
    "\n",
    "st.write(\n",
    "         \"\"\"\n",
    "         # AI-Real Image Classification\n",
    "         \"\"\"\n",
    "         )\n",
    "\n",
    "file = st.file_uploader(\"Please upload image to check if its real or ai generated\", type=[\"jpg\", \"png\"])\n",
    "\n",
    "import cv2\n",
    "from PIL import Image, ImageOps\n",
    "import numpy as np\n",
    "def import_and_predict(image_data, model):\n",
    "        size = (32,32)    \n",
    "        image = ImageOps.fit(image_data, size, Image.ANTIALIAS)\n",
    "        image = np.asarray(image)\n",
    "        img = cv2.cvtColor(image, cv2.COLOR_BGR2RGB)\n",
    "        img_reshape = img[np.newaxis,...]#model is trained on 4dimensions,this line adds new dimension\n",
    "        prediction = model.predict(img_reshape)        \n",
    "        return prediction\n",
    "\n",
    "if file is None:\n",
    "    st.text(\"Please upload an image file\")\n",
    "else:\n",
    "    image = Image.open(file)\n",
    "    st.image(image, use_column_width=True)#display \n",
    "    predictions = import_and_predict(image, model)\n",
    "    score = tf.nn.sigmoid(predictions[0])\n",
    "    st.write(predictions)\n",
    "    st.write(score)\n",
    "    print(\n",
    "    \"This image most likely belongs to {} with a {:.2f} percent confidence.\"\n",
    "    .format(class_names[np.argmax(score)], 100 * np.max(score))\n",
    ")\n",
    "\n"
   ]
  },
  {
   "cell_type": "code",
   "execution_count": 58,
   "id": "85795828",
   "metadata": {},
   "outputs": [
    {
     "name": "stdout",
     "output_type": "stream",
     "text": [
      "Requirement already satisfied: ipykernel in /Users/koushikmukka/anaconda3/lib/python3.10/site-packages (6.23.2)\n",
      "Requirement already satisfied: pyzmq>=20 in /Users/koushikmukka/anaconda3/lib/python3.10/site-packages (from ipykernel) (23.2.0)\n",
      "Requirement already satisfied: psutil in /Users/koushikmukka/anaconda3/lib/python3.10/site-packages (from ipykernel) (5.9.0)\n",
      "Requirement already satisfied: debugpy>=1.6.5 in /Users/koushikmukka/anaconda3/lib/python3.10/site-packages (from ipykernel) (1.6.7)\n",
      "Requirement already satisfied: packaging in /Users/koushikmukka/anaconda3/lib/python3.10/site-packages (from ipykernel) (22.0)\n",
      "Requirement already satisfied: nest-asyncio in /Users/koushikmukka/anaconda3/lib/python3.10/site-packages (from ipykernel) (1.5.6)\n",
      "Requirement already satisfied: appnope in /Users/koushikmukka/anaconda3/lib/python3.10/site-packages (from ipykernel) (0.1.2)\n",
      "Requirement already satisfied: traitlets>=5.4.0 in /Users/koushikmukka/anaconda3/lib/python3.10/site-packages (from ipykernel) (5.7.1)\n",
      "Requirement already satisfied: tornado>=6.1 in /Users/koushikmukka/anaconda3/lib/python3.10/site-packages (from ipykernel) (6.1)\n",
      "Requirement already satisfied: jupyter-core!=5.0.*,>=4.12 in /Users/koushikmukka/anaconda3/lib/python3.10/site-packages (from ipykernel) (5.2.0)\n",
      "Requirement already satisfied: jupyter-client>=6.1.12 in /Users/koushikmukka/anaconda3/lib/python3.10/site-packages (from ipykernel) (7.3.4)\n",
      "Requirement already satisfied: ipython>=7.23.1 in /Users/koushikmukka/anaconda3/lib/python3.10/site-packages (from ipykernel) (8.10.0)\n",
      "Requirement already satisfied: matplotlib-inline>=0.1 in /Users/koushikmukka/anaconda3/lib/python3.10/site-packages (from ipykernel) (0.1.6)\n",
      "Requirement already satisfied: comm>=0.1.1 in /Users/koushikmukka/anaconda3/lib/python3.10/site-packages (from ipykernel) (0.1.2)\n",
      "Requirement already satisfied: pygments>=2.4.0 in /Users/koushikmukka/anaconda3/lib/python3.10/site-packages (from ipython>=7.23.1->ipykernel) (2.15.1)\n",
      "Requirement already satisfied: pexpect>4.3 in /Users/koushikmukka/anaconda3/lib/python3.10/site-packages (from ipython>=7.23.1->ipykernel) (4.8.0)\n",
      "Requirement already satisfied: prompt-toolkit<3.1.0,>=3.0.30 in /Users/koushikmukka/anaconda3/lib/python3.10/site-packages (from ipython>=7.23.1->ipykernel) (3.0.36)\n",
      "Requirement already satisfied: jedi>=0.16 in /Users/koushikmukka/anaconda3/lib/python3.10/site-packages (from ipython>=7.23.1->ipykernel) (0.18.1)\n",
      "Requirement already satisfied: backcall in /Users/koushikmukka/anaconda3/lib/python3.10/site-packages (from ipython>=7.23.1->ipykernel) (0.2.0)\n",
      "Requirement already satisfied: pickleshare in /Users/koushikmukka/anaconda3/lib/python3.10/site-packages (from ipython>=7.23.1->ipykernel) (0.7.5)\n",
      "Requirement already satisfied: stack-data in /Users/koushikmukka/anaconda3/lib/python3.10/site-packages (from ipython>=7.23.1->ipykernel) (0.2.0)\n",
      "Requirement already satisfied: decorator in /Users/koushikmukka/anaconda3/lib/python3.10/site-packages (from ipython>=7.23.1->ipykernel) (5.1.1)\n",
      "Requirement already satisfied: entrypoints in /Users/koushikmukka/anaconda3/lib/python3.10/site-packages (from jupyter-client>=6.1.12->ipykernel) (0.4)\n",
      "Requirement already satisfied: python-dateutil>=2.8.2 in /Users/koushikmukka/anaconda3/lib/python3.10/site-packages (from jupyter-client>=6.1.12->ipykernel) (2.8.2)\n",
      "Requirement already satisfied: platformdirs>=2.5 in /Users/koushikmukka/anaconda3/lib/python3.10/site-packages (from jupyter-core!=5.0.*,>=4.12->ipykernel) (2.5.2)\n",
      "Requirement already satisfied: parso<0.9.0,>=0.8.0 in /Users/koushikmukka/anaconda3/lib/python3.10/site-packages (from jedi>=0.16->ipython>=7.23.1->ipykernel) (0.8.3)\n",
      "Requirement already satisfied: ptyprocess>=0.5 in /Users/koushikmukka/anaconda3/lib/python3.10/site-packages (from pexpect>4.3->ipython>=7.23.1->ipykernel) (0.7.0)\n",
      "Requirement already satisfied: wcwidth in /Users/koushikmukka/anaconda3/lib/python3.10/site-packages (from prompt-toolkit<3.1.0,>=3.0.30->ipython>=7.23.1->ipykernel) (0.2.5)\n",
      "Requirement already satisfied: six>=1.5 in /Users/koushikmukka/anaconda3/lib/python3.10/site-packages (from python-dateutil>=2.8.2->jupyter-client>=6.1.12->ipykernel) (1.16.0)\n",
      "Requirement already satisfied: asttokens in /Users/koushikmukka/anaconda3/lib/python3.10/site-packages (from stack-data->ipython>=7.23.1->ipykernel) (2.0.5)\n",
      "Requirement already satisfied: executing in /Users/koushikmukka/anaconda3/lib/python3.10/site-packages (from stack-data->ipython>=7.23.1->ipykernel) (0.8.3)\n",
      "Requirement already satisfied: pure-eval in /Users/koushikmukka/anaconda3/lib/python3.10/site-packages (from stack-data->ipython>=7.23.1->ipykernel) (0.2.2)\n"
     ]
    }
   ],
   "source": [
    "!pip3 install -U ipykernel"
   ]
  },
  {
   "cell_type": "code",
   "execution_count": 59,
   "id": "28fc7281",
   "metadata": {},
   "outputs": [
    {
     "name": "stdout",
     "output_type": "stream",
     "text": [
      "Requirement already satisfied: pyngrok in /Users/koushikmukka/anaconda3/lib/python3.10/site-packages (6.0.0)\r\n",
      "Requirement already satisfied: PyYAML in /Users/koushikmukka/anaconda3/lib/python3.10/site-packages (from pyngrok) (6.0)\r\n"
     ]
    }
   ],
   "source": [
    "!pip3 install pyngrok"
   ]
  },
  {
   "cell_type": "code",
   "execution_count": 60,
   "id": "62cf0734",
   "metadata": {},
   "outputs": [
    {
     "name": "stdout",
     "output_type": "stream",
     "text": [
      "Authtoken saved to configuration file: /Users/koushikmukka/.ngrok2/ngrok.yml\r\n"
     ]
    }
   ],
   "source": [
    "!ngrok authtoken 2RYcIvS2TsvM9sZH28g7CQRxNQK_59rVX9pXvqJSKByrgdyyt"
   ]
  },
  {
   "cell_type": "code",
   "execution_count": 72,
   "id": "655a3a7c",
   "metadata": {},
   "outputs": [
    {
     "name": "stderr",
     "output_type": "stream",
     "text": [
      "zsh:1: no such file or directory: ./ngrok\n"
     ]
    }
   ],
   "source": []
  },
  {
   "cell_type": "markdown",
   "id": "92b662e3",
   "metadata": {},
   "source": [
    "# Dropout Regularization"
   ]
  },
  {
   "cell_type": "code",
   "execution_count": 27,
   "id": "d10668fe",
   "metadata": {},
   "outputs": [],
   "source": [
    "model2 = Sequential()\n",
    "model2.add(Conv2D(32, (3, 3), activation='relu',kernel_initializer='he_uniform', padding='same', input_shape=(32, 32, 3)))\n",
    "model2.add(MaxPooling2D((2, 2)))\n",
    "model2.add(Dropout(0.2))\n",
    "model2.add(Conv2D(32, (3, 3), activation='relu',kernel_initializer='he_uniform', padding='same'))\n",
    "model2.add(MaxPooling2D((2, 2)))\n",
    "model2.add(Dropout(0.2))\n",
    "model2.add(Flatten())\n",
    "model2.add(Dense(64, activation='relu'))\n",
    "model2.add(Dropout(0.5))\n",
    "model2.add(Dense(1, activation='sigmoid'))"
   ]
  },
  {
   "cell_type": "code",
   "execution_count": 28,
   "id": "74b0cefa",
   "metadata": {},
   "outputs": [],
   "source": [
    "opt=keras.optimizers.SGD(learning_rate=0.001)\n",
    "model2.compile(loss='binary_crossentropy',optimizer=opt,metrics=['accuracy'])"
   ]
  },
  {
   "cell_type": "code",
   "execution_count": 29,
   "id": "b49182b3",
   "metadata": {},
   "outputs": [
    {
     "name": "stdout",
     "output_type": "stream",
     "text": [
      "3136/3136 [==============================] - 120s 38ms/step - loss: 0.6584 - accuracy: 0.6105 - val_loss: 0.6097 - val_accuracy: 0.6448\n"
     ]
    },
    {
     "data": {
      "text/plain": [
       "<keras.callbacks.History at 0x7f7b6ad1e260>"
      ]
     },
     "execution_count": 29,
     "metadata": {},
     "output_type": "execute_result"
    }
   ],
   "source": [
    "model2.fit(TRAIN_GENERATOR_RGB,\n",
    "                    epochs = 1,\n",
    "                    validation_data = TEST_GENERATOR_RGB,\n",
    "                    batch_size = 64\n",
    "                   )"
   ]
  },
  {
   "cell_type": "code",
   "execution_count": 48,
   "id": "798c21aa",
   "metadata": {},
   "outputs": [
    {
     "name": "stdout",
     "output_type": "stream",
     "text": [
      "Model: \"sequential_10\"\n",
      "_________________________________________________________________\n",
      " Layer (type)                Output Shape              Param #   \n",
      "=================================================================\n",
      " conv2d_20 (Conv2D)          (None, 32, 32, 32)        896       \n",
      "                                                                 \n",
      " max_pooling2d_10 (MaxPoolin  (None, 16, 16, 32)       0         \n",
      " g2D)                                                            \n",
      "                                                                 \n",
      " dropout_7 (Dropout)         (None, 16, 16, 32)        0         \n",
      "                                                                 \n",
      " conv2d_21 (Conv2D)          (None, 16, 16, 32)        9248      \n",
      "                                                                 \n",
      " max_pooling2d_11 (MaxPoolin  (None, 8, 8, 32)         0         \n",
      " g2D)                                                            \n",
      "                                                                 \n",
      " dropout_8 (Dropout)         (None, 8, 8, 32)          0         \n",
      "                                                                 \n",
      " flatten_9 (Flatten)         (None, 2048)              0         \n",
      "                                                                 \n",
      " dense_18 (Dense)            (None, 64)                131136    \n",
      "                                                                 \n",
      " dropout_9 (Dropout)         (None, 64)                0         \n",
      "                                                                 \n",
      " dense_19 (Dense)            (None, 1)                 65        \n",
      "                                                                 \n",
      "=================================================================\n",
      "Total params: 141,345\n",
      "Trainable params: 141,345\n",
      "Non-trainable params: 0\n",
      "_________________________________________________________________\n"
     ]
    }
   ],
   "source": [
    "model2.summary()"
   ]
  },
  {
   "cell_type": "markdown",
   "id": "cb185481",
   "metadata": {},
   "source": [
    "# Transfer learning"
   ]
  },
  {
   "cell_type": "code",
   "execution_count": 17,
   "id": "ef0e9805",
   "metadata": {},
   "outputs": [],
   "source": [
    "def create_model(input_shape, n_classes, optimizer='rmsprop', fine_tune=0):\n",
    "    \"\"\"\n",
    "    Compiles a model integrated with VGG16 pretrained layers\n",
    "    \n",
    "    input_shape: tuple - the shape of input images (width, height, channels)\n",
    "    n_classes: int - number of classes for the output layer\n",
    "    optimizer: string - instantiated optimizer to use for training. Defaults to 'RMSProp'\n",
    "    fine_tune: int - The number of pre-trained layers to unfreeze.\n",
    "                If set to 0, all pretrained layers will freeze during training\n",
    "    \"\"\"\n",
    "    \n",
    "    # Pretrained convolutional layers are loaded using the Imagenet weights.\n",
    "    # Include_top is set to False, in order to exclude the model's fully-connected layers.\n",
    "    conv_base = VGG16(include_top=False,\n",
    "                     weights='imagenet', \n",
    "                     input_shape=input_shape)\n",
    "    \n",
    "    # Defines how many layers to freeze during training.\n",
    "    # Layers in the convolutional base are switched from trainable to non-trainable\n",
    "    # depending on the size of the fine-tuning parameter.\n",
    "    if fine_tune > 0:\n",
    "        for layer in conv_base.layers[:-fine_tune]:\n",
    "            layer.trainable = False\n",
    "    else:\n",
    "        for layer in conv_base.layers:\n",
    "            layer.trainable = False\n",
    "\n",
    "    # Create a new 'top' of the model (i.e. fully-connected layers).\n",
    "    # This is 'bootstrapping' a new top_model onto the pretrained layers.\n",
    "    top_model = conv_base.output\n",
    "    top_model = Flatten(name=\"flatten\")(top_model)\n",
    "    top_model = Dense(4096, activation='relu')(top_model)\n",
    "    top_model = Dense(1072, activation='relu')(top_model)\n",
    "    top_model = Dropout(0.2)(top_model)\n",
    "    output_layer = Dense(1, activation='sigmoid')(top_model)\n",
    "    \n",
    "    # Group the convolutional base and new fully-connected layers into a Model object.\n",
    "    model = Model(inputs=conv_base.input, outputs=output_layer)\n",
    "\n",
    "    # Compiles the model for training.\n",
    "    model.compile(optimizer=optimizer, \n",
    "                  loss='binary_crossentropy',\n",
    "                  metrics=['accuracy'])\n",
    "    \n",
    "    return model"
   ]
  },
  {
   "cell_type": "markdown",
   "id": "379b6fc4",
   "metadata": {},
   "source": [
    "# without fine tuning"
   ]
  },
  {
   "cell_type": "code",
   "execution_count": 18,
   "id": "f1ef6ce2",
   "metadata": {},
   "outputs": [],
   "source": [
    "vgg_model = create_model((32,32,3), 1,'adam', fine_tune=0)"
   ]
  },
  {
   "cell_type": "code",
   "execution_count": 19,
   "id": "b764aeae",
   "metadata": {},
   "outputs": [
    {
     "name": "stdout",
     "output_type": "stream",
     "text": [
      "3136/3136 [==============================] - 1390s 443ms/step - loss: 0.3646 - accuracy: 0.8385 - val_loss: 0.3251 - val_accuracy: 0.8599\n"
     ]
    },
    {
     "data": {
      "text/plain": [
       "<keras.callbacks.History at 0x7fe6ca412320>"
      ]
     },
     "execution_count": 19,
     "metadata": {},
     "output_type": "execute_result"
    }
   ],
   "source": [
    "vgg_model.fit(TRAIN_GENERATOR_RGB,\n",
    "                    epochs = 1,\n",
    "                    validation_data = TEST_GENERATOR_RGB,\n",
    "                    batch_size = 64\n",
    "                   )"
   ]
  },
  {
   "cell_type": "code",
   "execution_count": null,
   "id": "209a4b19",
   "metadata": {},
   "outputs": [],
   "source": [
    "vgg_model.compile(optimizer=opt, \n",
    "                  loss='binary_crossentropy',\n",
    "                  metrics=['accuracy'])"
   ]
  },
  {
   "cell_type": "code",
   "execution_count": 35,
   "id": "36bd6e66",
   "metadata": {},
   "outputs": [
    {
     "name": "stdout",
     "output_type": "stream",
     "text": [
      "3136/3136 [==============================] - 1347s 429ms/step - loss: 0.2907 - accuracy: 0.8776 - val_loss: 0.3011 - val_accuracy: 0.8711\n"
     ]
    },
    {
     "data": {
      "text/plain": [
       "<keras.callbacks.History at 0x7fe69a3d74c0>"
      ]
     },
     "execution_count": 35,
     "metadata": {},
     "output_type": "execute_result"
    }
   ],
   "source": [
    "vgg_model.fit(TRAIN_GENERATOR_RGB,\n",
    "                    epochs = 1,\n",
    "                    validation_data = TEST_GENERATOR_RGB,\n",
    "                    batch_size = 64\n",
    "                   )"
   ]
  },
  {
   "cell_type": "code",
   "execution_count": 20,
   "id": "4f220b7a",
   "metadata": {},
   "outputs": [],
   "source": [
    "vgg_model2 = create_model((32,32,3),1,opt,fine_tune=0)"
   ]
  },
  {
   "cell_type": "code",
   "execution_count": 21,
   "id": "7481bae8",
   "metadata": {},
   "outputs": [
    {
     "name": "stdout",
     "output_type": "stream",
     "text": [
      "3136/3136 [==============================] - 1327s 423ms/step - loss: 0.5511 - accuracy: 0.7317 - val_loss: 0.4925 - val_accuracy: 0.7669\n"
     ]
    },
    {
     "data": {
      "text/plain": [
       "<keras.callbacks.History at 0x7fe6effd5f30>"
      ]
     },
     "execution_count": 21,
     "metadata": {},
     "output_type": "execute_result"
    }
   ],
   "source": [
    "vgg_model2.fit(TRAIN_GENERATOR_RGB,\n",
    "                    epochs = 1,\n",
    "                    validation_data = TEST_GENERATOR_RGB,\n",
    "                    batch_size = 64\n",
    "                   )"
   ]
  },
  {
   "cell_type": "code",
   "execution_count": 22,
   "id": "b665af0b",
   "metadata": {},
   "outputs": [],
   "source": [
    "def create_model2(input_shape, n_classes, optimizer='rmsprop', fine_tune=0):\n",
    "    \"\"\"\n",
    "    Compiles a model integrated with VGG16 pretrained layers\n",
    "    \n",
    "    input_shape: tuple - the shape of input images (width, height, channels)\n",
    "    n_classes: int - number of classes for the output layer\n",
    "    optimizer: string - instantiated optimizer to use for training. Defaults to 'RMSProp'\n",
    "    fine_tune: int - The number of pre-trained layers to unfreeze.\n",
    "                If set to 0, all pretrained layers will freeze during training\n",
    "    \"\"\"\n",
    "    \n",
    "    # Pretrained convolutional layers are loaded using the Imagenet weights.\n",
    "    # Include_top is set to False, in order to exclude the model's fully-connected layers.\n",
    "    conv_base = VGG16(include_top=False,\n",
    "                     weights='imagenet', \n",
    "                     input_shape=input_shape)\n",
    "    \n",
    "    # Defines how many layers to freeze during training.\n",
    "    # Layers in the convolutional base are switched from trainable to non-trainable\n",
    "    # depending on the size of the fine-tuning parameter.\n",
    "    if fine_tune > 0:\n",
    "        for layer in conv_base.layers[:-fine_tune]:\n",
    "            layer.trainable = False\n",
    "    else:\n",
    "        for layer in conv_base.layers:\n",
    "            layer.trainable = False\n",
    "\n",
    "    # Create a new 'top' of the model (i.e. fully-connected layers).\n",
    "    # This is 'bootstrapping' a new top_model onto the pretrained layers.\n",
    "    top_model = conv_base.output\n",
    "    top_model = Flatten(name=\"flatten\")(top_model)\n",
    "    top_model = Dense(64, activation='relu')(top_model)\n",
    "    output_layer = Dense(1, activation='sigmoid')(top_model)\n",
    "    \n",
    "    # Group the convolutional base and new fully-connected layers into a Model object.\n",
    "    model = Model(inputs=conv_base.input, outputs=output_layer)\n",
    "\n",
    "    # Compiles the model for training.\n",
    "    model.compile(optimizer=optimizer, \n",
    "                  loss='binary_crossentropy',\n",
    "                  metrics=['accuracy'])\n",
    "    \n",
    "    return model"
   ]
  },
  {
   "cell_type": "code",
   "execution_count": 23,
   "id": "127cbe1e",
   "metadata": {},
   "outputs": [],
   "source": [
    "vgg_model3 = create_model((32,32,3),1,opt,fine_tune=0)"
   ]
  },
  {
   "cell_type": "code",
   "execution_count": 24,
   "id": "756c8772",
   "metadata": {},
   "outputs": [
    {
     "name": "stdout",
     "output_type": "stream",
     "text": [
      "3136/3136 [==============================] - 1499s 478ms/step - loss: 0.5583 - accuracy: 0.7266 - val_loss: 0.4988 - val_accuracy: 0.7611\n"
     ]
    },
    {
     "data": {
      "text/plain": [
       "<keras.callbacks.History at 0x7fe6983b3190>"
      ]
     },
     "execution_count": 24,
     "metadata": {},
     "output_type": "execute_result"
    }
   ],
   "source": [
    "vgg_model3.fit(TRAIN_GENERATOR_RGB,\n",
    "                    epochs = 1,\n",
    "                    validation_data = TEST_GENERATOR_RGB,\n",
    "                    batch_size = 64\n",
    "                   )"
   ]
  },
  {
   "cell_type": "code",
   "execution_count": null,
   "id": "7322d50d",
   "metadata": {},
   "outputs": [],
   "source": []
  }
 ],
 "metadata": {
  "kernelspec": {
   "display_name": "Python 3 (ipykernel)",
   "language": "python",
   "name": "python3"
  },
  "language_info": {
   "codemirror_mode": {
    "name": "ipython",
    "version": 3
   },
   "file_extension": ".py",
   "mimetype": "text/x-python",
   "name": "python",
   "nbconvert_exporter": "python",
   "pygments_lexer": "ipython3",
   "version": "3.10.9"
  }
 },
 "nbformat": 4,
 "nbformat_minor": 5
}
